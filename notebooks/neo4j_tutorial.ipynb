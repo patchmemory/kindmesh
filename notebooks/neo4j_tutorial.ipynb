{
 "cells": [
  {
   "cell_type": "markdown",
   "metadata": {},
   "source": [
    "# Neo4j Database Connection Tutorial for kindmesh\n",
    "\n",
    "This notebook demonstrates how to connect to the Neo4j database used by kindmesh and run basic queries."
   ]
  },
  {
   "cell_type": "markdown",
   "metadata": {},
   "source": [
    "## Setup\n",
    "\n",
    "First, let's install the required packages if they're not already installed:"
   ]
  },
  {
   "cell_type": "code",
   "execution_count": null,
   "metadata": {},
   "outputs": [],
   "source": [
    "!pip install neo4j pandas"
   ]
  },
  {
   "cell_type": "markdown",
   "metadata": {},
   "source": [
    "## Importing the Required Libraries"
   ]
  },
  {
   "cell_type": "code",
   "execution_count": null,
   "metadata": {},
   "outputs": [],
   "source": [
    "import os\n",
    "import pandas as pd\n",
    "from neo4j import GraphDatabase\n",
    "from datetime import datetime"
   ]
  },
  {
   "cell_type": "markdown",
   "metadata": {},
   "source": [
    "## Connecting to Neo4j\n",
    "\n",
    "We'll create a simple class to handle Neo4j connections:"
   ]
  },
  {
   "cell_type": "code",
   "execution_count": null,
   "metadata": {},
   "outputs": [],
   "source": [
    "class Neo4jConnection:\n",
    "    def __init__(self, uri, user, password):\n",
    "        self.uri = uri\n",
    "        self.user = user\n",
    "        self.password = password\n",
    "        self.driver = None\n",
    "        self.connect()\n",
    "        \n",
    "    def connect(self):\n",
    "        self.driver = GraphDatabase.driver(self.uri, auth=(self.user, self.password))\n",
    "        # Test connection\n",
    "        with self.driver.session() as session:\n",
    "            result = session.run(\"RETURN 'Connection successful' as message\")\n",
    "            print(result.single()[\"message\"])\n",
    "    \n",
    "    def close(self):\n",
    "        if self.driver:\n",
    "            self.driver.close()\n",
    "    \n",
    "    def query(self, query, parameters=None):\n",
    "        if not parameters:\n",
    "            parameters = {}\n",
    "        with self.driver.session() as session:\n",
    "            result = session.run(query, parameters)\n",
    "            return [record for record in result]\n",
    "    \n",
    "    def __enter__(self):\n",
    "        return self\n",
    "    \n",
    "    def __exit__(self, exc_type, exc_val, exc_tb):\n",
    "        self.close()"
   ]
  },
  {
   "cell_type": "markdown",
   "metadata": {},
   "source": [
    "## Establishing a Connection\n",
    "\n",
    "Now let's connect to the Neo4j database:"
   ]
  },
  {
   "cell_type": "code",
   "execution_count": null,
   "metadata": {},
   "outputs": [],
   "source": [
    "# Connection parameters - adjust these to match your Neo4j setup\n",
    "uri = \"bolt://localhost:7687\"  # Change if your Neo4j is hosted elsewhere\n",
    "user = \"neo4j\"\n",
    "password = \"kindmesh\"  # Use your actual password\n",
    "\n",
    "# Connect to Neo4j\n",
    "conn = Neo4jConnection(uri, user, password)"
   ]
  },
  {
   "cell_type": "markdown",
   "metadata": {},
   "source": [
    "## Running Basic Queries\n",
    "\n",
    "Let's run some basic queries to explore the database:"
   ]
  },
  {
   "cell_type": "code",
   "execution_count": null,
   "metadata": {},
   "outputs": [],
   "source": [
    "# Get database schema\n",
    "query = \"\"\"\n",
    "CALL db.schema.visualization()\n",
    "\"\"\"\n",
    "result = conn.query(query)\n",
    "print(\"Database schema retrieved\")"
   ]
  },
  {
   "cell_type": "code",
   "execution_count": null,
   "metadata": {},
   "outputs": [],
   "source": [
    "# Count nodes by label\n",
    "query = \"\"\"\n",
    "MATCH (n)\n",
    "RETURN labels(n) AS Node_Type, count(*) AS Count\n",
    "ORDER BY Count DESC\n",
    "\"\"\"\n",
    "result = conn.query(query)\n",
    "\n",
    "# Convert to DataFrame for better display\n",
    "df = pd.DataFrame([{\"Node_Type\": r[\"Node_Type\"][0] if r[\"Node_Type\"] else \"None\", \n",
    "                    \"Count\": r[\"Count\"]} for r in result])\n",
    "df"
   ]
  },
  {
   "cell_type": "markdown",
   "metadata": {},
   "source": [
    "## Retrieving User Data\n",
    "\n",
    "Let's retrieve information about users in the system:"
   ]
  },
  {
   "cell_type": "code",
   "execution_count": null,
   "metadata": {},
   "outputs": [],
   "source": [
    "# Get all users (excluding password hashes for security)\n",
    "query = \"\"\"\n",
    "MATCH (u:User)\n",
    "RETURN u.username AS Username, u.role AS Role, \n",
    "       u.created_at AS Created_At, u.created_by AS Created_By\n",
    "ORDER BY u.created_at DESC\n",
    "\"\"\"\n",
    "result = conn.query(query)\n",
    "\n",
    "# Convert to DataFrame\n",
    "users_df = pd.DataFrame([dict(r) for r in result])\n",
    "users_df"
   ]
  },
  {
   "cell_type": "markdown",
   "metadata": {},
   "source": [
    "## Retrieving Interaction Data\n",
    "\n",
    "Let's retrieve recent interactions:"
   ]
  },
  {
   "cell_type": "code",
   "execution_count": null,
   "metadata": {},
   "outputs": [],
   "source": [
    "# Get recent interactions\n",
    "query = \"\"\"\n",
    "MATCH (u:User)-[i:LOGGED]->(interaction:Interaction)-[:WITH]->(r:Recipient)\n",
    "RETURN u.username AS Logged_By, \n",
    "       interaction.type AS Interaction_Type,\n",
    "       interaction.timestamp AS Timestamp,\n",
    "       r.key AS Recipient_Key,\n",
    "       r.pseudonym AS Recipient_Pseudonym,\n",
    "       interaction.notes AS Notes\n",
    "ORDER BY interaction.timestamp DESC\n",
    "LIMIT 10\n",
    "\"\"\"\n",
    "result = conn.query(query)\n",
    "\n",
    "# Convert to DataFrame\n",
    "interactions_df = pd.DataFrame([dict(r) for r in result])\n",
    "interactions_df"
   ]
  },
  {
   "cell_type": "markdown",
   "metadata": {},
   "source": [
    "## Creating an Index\n",
    "\n",
    "Let's create an index to improve query performance:"
   ]
  },
  {
   "cell_type": "code",
   "execution_count": null,
   "metadata": {},
   "outputs": [],
   "source": [
    "# Create an index on Recipient.key for faster lookups\n",
    "query = \"\"\"\n",
    "CREATE INDEX recipient_key IF NOT EXISTS FOR (r:Recipient) ON (r.key)\n",
    "\"\"\"\n",
    "conn.query(query)\n",
    "print(\"Index created successfully\")"
   ]
  },
  {
   "cell_type": "markdown",
   "metadata": {},
   "source": [
    "## Closing the Connection\n",
    "\n",
    "Always close the connection when you're done:"
   ]
  },
  {
   "cell_type": "code",
   "execution_count": null,
   "metadata": {},
   "outputs": [],
   "source": [
    "# Close the connection\n",
    "conn.close()\n",
    "print(\"Connection closed\")"
   ]
  }
 ],
 "metadata": {
  "kernelspec": {
   "display_name": "Python 3",
   "language": "python",
   "name": "python3"
  },
  "language_info": {
   "codemirror_mode": {
    "name": "ipython",
    "version": 3
   },
   "file_extension": ".py",
   "mimetype": "text/x-python",
   "name": "python",
   "nbconvert_exporter": "python",
   "pygments_lexer": "ipython3",
   "version": "3.9.0"
  }
 },
 "nbformat": 4,
 "nbformat_minor": 4
}